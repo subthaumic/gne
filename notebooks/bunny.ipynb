{
 "cells": [
  {
   "cell_type": "code",
   "execution_count": null,
   "metadata": {},
   "outputs": [],
   "source": [
    "from gne.models.GeometricEmbedding import GeometricEmbedding\n",
    "from gne.models.Config import Config\n",
    "from gne.utils.geometries import Euclidean\n",
    "\n",
    "import polars as pl\n",
    "import torch\n",
    "\n",
    "from umap import UMAP\n",
    "\n",
    "import matplotlib.pyplot as plt\n",
    "import seaborn as sns"
   ]
  },
  {
   "cell_type": "code",
   "execution_count": null,
   "metadata": {},
   "outputs": [],
   "source": [
    "# Load data\n",
    "bunny = torch.tensor(pl.read_csv(\"data/bunny.csv\", separator=\" \").to_numpy())"
   ]
  },
  {
   "cell_type": "code",
   "execution_count": null,
   "metadata": {},
   "outputs": [],
   "source": [
    "# Calculate gNE embedding \n",
    "# ca. 45s/epoch with given settings\n",
    "# typical number of epochs is ~50 --> ~75min\n",
    "\n",
    "djinni = GeometricEmbedding(\n",
    "    source_geometry = Euclidean(sample=bunny),\n",
    "    target_geometry = Euclidean(dimension=2),\n",
    "    config = Config(epochs=100, learning_rate=.1, patience=10, cooldown=1)\n",
    ")\n",
    "\n",
    "gne_embedding = djinni(plot_loss=True)\n",
    "\n",
    "# NB: while we need to specify target geometry and its dimension, \n",
    "# the dimension of the source geometry is infered from the point sample"
   ]
  },
  {
   "cell_type": "code",
   "execution_count": null,
   "metadata": {},
   "outputs": [],
   "source": [
    "# Calculate 2d PCA embedding\n",
    "_, _, V = torch.pca_lowrank(bunny)\n",
    "principal_directions = V[:, :2]\n",
    "principal_components = torch.matmul(bunny, principal_directions)\n",
    "pca_embedding = principal_components"
   ]
  },
  {
   "cell_type": "code",
   "execution_count": null,
   "metadata": {},
   "outputs": [],
   "source": [
    "# Calculate UMAP embedding\n",
    "\n",
    "# umap_model = UMAP(n_neighbors=15, min_dist=0.1, n_components=2, random_state=42, n_jobs=1)\n",
    "umap_model = UMAP(random_state=42, n_jobs=1)\n",
    "umap_embedding = umap_model.fit_transform(bunny)"
   ]
  },
  {
   "cell_type": "code",
   "execution_count": null,
   "metadata": {},
   "outputs": [],
   "source": [
    "from matplotlib.colors import to_rgba\n",
    "import colorsys\n",
    "\n",
    "# Plot all 3 embeddings for direct comparison\n",
    "fig, ax = plt.subplots(1, 4, figsize=(24, 6))\n",
    "\n",
    "# Normalize weight for coloring by height\n",
    "height = bunny[:,1]\n",
    "weight = 1-(height - min(height))/(max(height) - min(height))\n",
    "\n",
    "# Function to adjust lightness of a color\n",
    "def modify_brightness(color, amount=0.5):\n",
    "    c = colorsys.rgb_to_hls(*to_rgba(color)[:3])\n",
    "    return colorsys.hls_to_rgb(c[0], max(0, min(1, amount * c[1])), c[2]) + (1,)\n",
    "\n",
    "# Base colors for each plot\n",
    "\n",
    "# 2d Projection\n",
    "ax[0].set_title('2d projection')\n",
    "colors = [modify_brightness('grey', amount) for amount in weight]\n",
    "sns.scatterplot(x=bunny[:,0], y=bunny[:,1], ax=ax[0], c=colors)\n",
    "\n",
    "# PCA\n",
    "ax[1].set_title('PCA')\n",
    "colors = [modify_brightness('red', amount) for amount in weight]\n",
    "sns.scatterplot(x=pca_embedding[:,0], y=pca_embedding[:,1], ax=ax[1], color=colors)\n",
    "\n",
    "# UMAP\n",
    "ax[2].set_title('UMAP')\n",
    "colors = [modify_brightness('green', amount) for amount in weight]\n",
    "sns.scatterplot(x=umap_embedding[:, 0], y=umap_embedding[:, 1], ax=ax[2], c=colors)\n",
    "\n",
    "# gNE\n",
    "ax[3].set_title('gNE')\n",
    "colors = [modify_brightness('blue', amount) for amount in weight]\n",
    "sns.scatterplot(x=gne_embedding[:,0], y=gne_embedding[:,1], ax=ax[3], c=colors)\n",
    "\n",
    "for j in range(4):\n",
    "    ax[j].set_aspect('equal')\n",
    "    ax[j].axis('square')\n",
    "\n",
    "plt.savefig('reports/figures/bunny.pdf')\n",
    "plt.show()"
   ]
  }
 ],
 "metadata": {
  "kernelspec": {
   "display_name": ".venv",
   "language": "python",
   "name": "python3"
  },
  "language_info": {
   "codemirror_mode": {
    "name": "ipython",
    "version": 3
   },
   "file_extension": ".py",
   "mimetype": "text/x-python",
   "name": "python",
   "nbconvert_exporter": "python",
   "pygments_lexer": "ipython3",
   "version": "3.11.9"
  }
 },
 "nbformat": 4,
 "nbformat_minor": 2
}
