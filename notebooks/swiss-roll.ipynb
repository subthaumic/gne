{
 "cells": [
  {
   "cell_type": "code",
   "execution_count": 1,
   "metadata": {},
   "outputs": [],
   "source": [
    "from gne.models.GeometricEmbedding import GeometricEmbedding\n",
    "from gne.models.Config import Config\n",
    "from gne.utils.geometries import Euclidean\n",
    "\n",
    "from sklearn.datasets import make_swiss_roll\n",
    "\n",
    "import torch\n",
    "\n",
    "from umap import UMAP\n",
    "\n",
    "import matplotlib.pyplot as plt\n",
    "import seaborn as sns"
   ]
  },
  {
   "cell_type": "code",
   "execution_count": 2,
   "metadata": {},
   "outputs": [],
   "source": [
    "# global parameters\n",
    "N = 1000\n",
    "\n",
    "# Load data\n",
    "points, t = make_swiss_roll(n_samples=N, noise=0.05, random_state=0, hole=True)\n",
    "points = torch.tensor(points)\n",
    "t = torch.tensor(t)"
   ]
  },
  {
   "cell_type": "code",
   "execution_count": null,
   "metadata": {},
   "outputs": [],
   "source": [
    "# Calculate gNE embedding \n",
    "\n",
    "config = Config(\n",
    "    epochs=10,\n",
    "    initialization_method='UMAP',\n",
    "    batch_size=-1,\n",
    "    k_neighbours=4,\n",
    "    learning_rate=.8,\n",
    "    lr_threshold=.5,\n",
    "    patience=0\n",
    "    ) # ~ 25min\n",
    "\n",
    "\n",
    "djinni = GeometricEmbedding(\n",
    "    source_geometry = Euclidean(sample=points),\n",
    "    config = config\n",
    ")\n",
    "\n",
    "gne_embedding = djinni(plot_loss=True)"
   ]
  },
  {
   "cell_type": "code",
   "execution_count": 4,
   "metadata": {},
   "outputs": [],
   "source": [
    "# Calculate 2d PCA embedding\n",
    "_, _, V = torch.pca_lowrank(points)\n",
    "principal_directions = V[:, :2]\n",
    "principal_components = torch.matmul(points, principal_directions)\n",
    "pca_embedding = principal_components"
   ]
  },
  {
   "cell_type": "code",
   "execution_count": 5,
   "metadata": {},
   "outputs": [],
   "source": [
    "# Calculate UMAP embedding\n",
    "\n",
    "# umap_model = UMAP(n_neighbors=15, min_dist=0.1, n_components=2, random_state=42, n_jobs=1)\n",
    "umap_model = UMAP(random_state=42, n_jobs=1)\n",
    "umap_embedding = umap_model.fit_transform(points)"
   ]
  },
  {
   "cell_type": "code",
   "execution_count": null,
   "metadata": {},
   "outputs": [],
   "source": [
    "from matplotlib.colors import to_rgba\n",
    "import colorsys\n",
    "\n",
    "# Plot all 3 embeddings for direct comparison\n",
    "fig, axs = plt.subplots(1, 4, figsize=(24, 6))\n",
    "\n",
    "# Normalize weight for coloring by height\n",
    "weight = (t - min(t))/(max(t) - min(t))\n",
    "\n",
    "# Function to adjust lightness of a color\n",
    "def modify_brightness(color, amount=0.5):\n",
    "    c = colorsys.rgb_to_hls(*to_rgba(color)[:3])\n",
    "    return colorsys.hls_to_rgb(c[0], max(0, min(1, amount * c[1])), c[2]) + (1,)\n",
    "\n",
    "# Base colors for each plot\n",
    "\n",
    "# Ground Truth\n",
    "axs[0].remove()\n",
    "ax = fig.add_subplot(1, 4, 1, projection='3d')\n",
    "ax.set_title('ground truth')\n",
    "colors = [modify_brightness('grey', amount) for amount in weight]\n",
    "ax.scatter(points[:, 0], points[:, 1], points[:, 2], c=colors)\n",
    "\n",
    "\n",
    "# PCA\n",
    "axs[1].set_title('PCA')\n",
    "colors = [modify_brightness('red', amount) for amount in weight]\n",
    "sns.scatterplot(x=pca_embedding[:,0], y=pca_embedding[:,1], ax=axs[1], color=colors)\n",
    "\n",
    "# UMAP\n",
    "axs[2].set_title('UMAP')\n",
    "colors = [modify_brightness('green', amount) for amount in weight]\n",
    "sns.scatterplot(x=umap_embedding[:, 0], y=umap_embedding[:, 1], ax=axs[2], c=colors)\n",
    "\n",
    "# gNE\n",
    "axs[3].set_title('gNE')\n",
    "colors = [modify_brightness('blue', amount) for amount in weight]\n",
    "sns.scatterplot(x=gne_embedding[:,0], y=gne_embedding[:,1], ax=axs[3], c=colors)\n",
    "\n",
    "for j in range(4):\n",
    "    axs[j].set_aspect('equal')\n",
    "    axs[j].axis('square')\n",
    "\n",
    "plt.savefig('reports/figures/swiss-roll.pdf')\n",
    "plt.show()"
   ]
  },
  {
   "cell_type": "code",
   "execution_count": null,
   "metadata": {},
   "outputs": [],
   "source": []
  }
 ],
 "metadata": {
  "kernelspec": {
   "display_name": ".venv",
   "language": "python",
   "name": "python3"
  },
  "language_info": {
   "codemirror_mode": {
    "name": "ipython",
    "version": 3
   },
   "file_extension": ".py",
   "mimetype": "text/x-python",
   "name": "python",
   "nbconvert_exporter": "python",
   "pygments_lexer": "ipython3",
   "version": "3.11.9"
  }
 },
 "nbformat": 4,
 "nbformat_minor": 2
}
